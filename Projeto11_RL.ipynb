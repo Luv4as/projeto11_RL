{
  "cells": [
    {
      "cell_type": "markdown",
      "metadata": {
        "id": "Um8QYYeAA3d_"
      },
      "source": [
        "# Dyna-Q com Prioritized Sweeping"
      ]
    },
    {
      "cell_type": "markdown",
      "metadata": {
        "id": "jJuhfAW6ypDD"
      },
      "source": [
        "# Instruções\n",
        "\n",
        "### Pergunta:\n",
        "- Qual o benefício de acrescentar “prioritized sweeping” (varredura priorizada) no Dyna-Q?\n",
        "\n",
        "### Detalhes:\n",
        "- Ver seção 8.4 do livro\n",
        "- Explicar, usando um ambiente grid, como o Dyna-Q pode fazer muitas atualizações “ruins” (no planejamento ou indirect RL)\n",
        "- Explicar a ideia de prioritized sweeping\n",
        "- Implementar uns dois esquemas de prioritized sweeping\n",
        "- Fazer experimentos com vários ambientes determinísticos\n",
        "- Avaliar em termos de:\n",
        " - “tempo” por steps\n",
        " - tempo real em máquina de 1 processador (wallclock time)\n",
        " - quantidade de updates\n",
        "- Experimentos (opções alternativas):\n",
        " - Comparar nos ambientes determinísticos (Taxi, Cliff, Racetrack, etc)\n",
        " - Labirintos de diferentes tamanhos, para reproduzir a figura abaixo (do livro)\n"
      ]
    },
    {
      "cell_type": "markdown",
      "metadata": {
        "id": "CCnvrZ9IxBzj"
      },
      "source": [
        "# Imports gerais"
      ]
    },
    {
      "cell_type": "code",
      "execution_count": 5,
      "metadata": {
        "id": "X62c3nS_C5YZ"
      },
      "outputs": [],
      "source": [
        "from IPython.display import clear_output\n",
        "import sys\n",
        "\n",
        "IN_COLAB = 'google.colab' in sys.modules\n",
        "\n",
        "if IN_COLAB:\n",
        "    # for saving videos\n",
        "    !apt-get install ffmpeg\n",
        "\n",
        "    !pip install gymnasium moviepy\n",
        "    !pip install optuna\n",
        "\n",
        "    # clone repository\n",
        "    !git clone https://github.com/pablo-sampaio/rl_facil\n",
        "    sys.path.append(\"/content/rl_facil\")\n",
        "\n",
        "else:\n",
        "    from os import path\n",
        "    sys.path.append( path.dirname( path.dirname( path.abspath(\"__main__\") ) ) )\n",
        "\n",
        "clear_output()"
      ]
    },
    {
      "cell_type": "code",
      "execution_count": 6,
      "metadata": {
        "id": "X1STG8TYP1WG"
      },
      "outputs": [],
      "source": [
        "import random as rand\n",
        "import gymnasium as gym\n",
        "import numpy as np\n",
        "from queue import PriorityQueue\n",
        "import matplotlib.pyplot as plt\n",
        "import heapq\n",
        "from collections import deque\n",
        "\n",
        "import optuna\n",
        "\n",
        "from util.experiments import repeated_exec\n",
        "from util.plot import plot_result, plot_multiple_results\n",
        "from util.notebook import display_videos_from_path\n",
        "from util.qtable_helper import evaluate_qtable_policy, record_video_qtable"
      ]
    },
    {
      "cell_type": "code",
      "execution_count": 7,
      "metadata": {
        "id": "QrdKjvk2P5Pn"
      },
      "outputs": [],
      "source": [
        "import envs"
      ]
    },
    {
      "cell_type": "markdown",
      "metadata": {
        "id": "oA7eTttjP7iz"
      },
      "source": [
        "# Dyna-Q\n"
      ]
    },
    {
      "cell_type": "markdown",
      "metadata": {
        "id": "4phTM4Q24HD2"
      },
      "source": [
        "> Por que o Dyna-Q pode fazer muitas atualizações \"ruins\"?\n",
        "- **Atualizações Uniformes:** O Dyna-Q realiza atualizações simuladas uniformemente para cada **estado** e **ação**, sem considerar a importância ou prioridade dessas atualizaçãoes.\n",
        "- **Ineficiente em Espaços Grandes**: Em espaços grandes, onde os estados e ações são numerosos (```CliffWalking```, por exemplo), o Dyna-Q pode se tornar ineficiente porque tenta simular e atualizar todos de forma uniforme, independentemente de sua relevância para o problema atual.\n",
        "- **Velocidade de Convergência**: Sem foco em atualizações mais significativas, o Dyna-Q pode demorar mais para alcançar uma política ótima ou quase ótima, especialmente em ambientes onde alguns estados têm um impacto muito maior nas recompensas cumulativas do que outros."
      ]
    },
    {
      "cell_type": "code",
      "execution_count": null,
      "metadata": {
        "id": "1AbyrMLoP-3I"
      },
      "outputs": [],
      "source": [
        "def planning(model, planning_steps, Q, lr, gamma):\n",
        "    all_s_a = list(model.keys())\n",
        "    if len(all_s_a) < planning_steps:\n",
        "        samples = rand.choices(all_s_a, k=planning_steps)\n",
        "    else:\n",
        "        samples = rand.sample(all_s_a, k=planning_steps)\n",
        "\n",
        "    for s, a in samples:\n",
        "        r, next_s, is_terminal = model[(s,a)]\n",
        "        if is_terminal:\n",
        "            V_next_s = 0\n",
        "        else:\n",
        "            V_next_s = np.max(Q[next_s])\n",
        "        delta = (r + gamma * V_next_s) - Q[s,a]\n",
        "        Q[s,a] = Q[s,a] + lr * delta"
      ]
    },
    {
      "cell_type": "code",
      "execution_count": null,
      "metadata": {
        "id": "eFTJ-6QrQA0C"
      },
      "outputs": [],
      "source": [
        "# Esta é a política. Neste caso, escolhe uma ação com base nos valores da tabela Q, usando uma estratégia epsilon-greedy,\n",
        "# dividindo a probabilidade igualmente em caso de empates entre ações de valor máximo.\n",
        "from util.qtable_helper import epsilon_greedy"
      ]
    },
    {
      "cell_type": "markdown",
      "metadata": {
        "id": "pKLIOPGd4tOV"
      },
      "source": [
        "## Execution\n",
        "Os ambientes utilizados para treinamento são:\n",
        "- Taxi-v3\n",
        "- FrozenLake-v1\n",
        "- CliffWalking"
      ]
    },
    {
      "cell_type": "code",
      "execution_count": null,
      "metadata": {
        "id": "-w7b5wc9QWzS"
      },
      "outputs": [],
      "source": [
        "# Algoritmo Dyna Q\n",
        "def run_dyna_q(env, episodes, lr=0.1, gamma=0.95, epsilon=0.1, planning_steps=5, verbose=False):\n",
        "    assert isinstance(env.observation_space, gym.spaces.Discrete)\n",
        "    assert isinstance(env.action_space, gym.spaces.Discrete)\n",
        "\n",
        "    num_actions = env.action_space.n\n",
        "\n",
        "    # inicializa a tabela Q\n",
        "    Q = np.random.uniform(low=-0.01, high=+0.01, size=(env.observation_space.n, num_actions))\n",
        "\n",
        "    # inicializa o modelo do ambiente\n",
        "    model = dict()\n",
        "\n",
        "    # para cada episódio, guarda sua soma de recompensas (retorno não-descontado)\n",
        "    sum_rewards_per_ep = []\n",
        "\n",
        "    # loop principal\n",
        "    for i in range(episodes):\n",
        "        done = False\n",
        "        sum_rewards, reward = 0, 0\n",
        "\n",
        "        state, _ = env.reset()\n",
        "\n",
        "        # executa 1 episódio completo, fazendo atualizações na Q-table\n",
        "        while not done:\n",
        "\n",
        "            # escolhe a próxima ação -- usa epsilon-greedy\n",
        "            action = epsilon_greedy(Q, state, epsilon)\n",
        "\n",
        "            # realiza a ação, ou seja, dá um passo no ambiente\n",
        "            next_state, reward, terminated, truncated, _ = env.step(action)\n",
        "            done = terminated or truncated\n",
        "\n",
        "            if terminated:\n",
        "                # para estados terminais\n",
        "                V_next_state = 0\n",
        "            else:\n",
        "                # para estados não-terminais -- valor máximo (melhor ação)\n",
        "                V_next_state = np.max(Q[next_state])\n",
        "\n",
        "            # atualiza a Q-table / direct RL\n",
        "            delta = (reward + gamma * V_next_state) - Q[state,action]\n",
        "            Q[state,action] = Q[state,action] + lr * delta\n",
        "\n",
        "            # atualiza o modelo\n",
        "            model[state,action] = (reward, next_state, terminated)\n",
        "\n",
        "            # planejamento / indirect RL\n",
        "            planning(model, planning_steps, Q, lr, gamma)\n",
        "\n",
        "            sum_rewards += reward\n",
        "            state = next_state\n",
        "\n",
        "        sum_rewards_per_ep.append(sum_rewards)\n",
        "\n",
        "        # a cada 100 episódios, imprime informação sobre o progresso\n",
        "        if verbose and ((i+1) % 100 == 0):\n",
        "            avg_reward = np.mean(sum_rewards_per_ep[-100:])\n",
        "            print(f\"Episode {i+1} Average Reward (last 100): {avg_reward:.3f}\")\n",
        "\n",
        "    state = env.reset()\n",
        "    reward = 0\n",
        "\n",
        "    return sum_rewards_per_ep, Q"
      ]
    },
    {
      "cell_type": "code",
      "execution_count": null,
      "metadata": {
        "id": "PEwVkBWeT82Z"
      },
      "outputs": [],
      "source": [
        "# escolha o ambiente descomentando uma das linhas abaixo\n",
        "ENV_NAME = \"Taxi-v3\"\n",
        "#ENV_NAME = \"WindyGrid-v0\"\n",
        "#ENV_NAME = \"RaceTrack-v0\"\n",
        "\n",
        "LR = 0.3\n",
        "GAMMA = 0.90\n",
        "EPSILON = 0.1\n",
        "\n",
        "#VERBOSE = True"
      ]
    },
    {
      "cell_type": "code",
      "execution_count": null,
      "metadata": {
        "id": "Dls-a-jdQal2"
      },
      "outputs": [],
      "source": [
        "env = gym.make(ENV_NAME)\n",
        "\n",
        "rmax = 10.0\n",
        "EPISODES = 700\n",
        "\n",
        "LR = 0.3\n",
        "GAMMA = 0.90\n",
        "EPSILON = 0.1\n",
        "\n",
        "rewards2, qtable2 = run_dyna_q(env, EPISODES, LR, GAMMA, EPSILON, planning_steps=10, verbose=True)\n",
        "print(\"Últimos resultados: media =\", np.mean(rewards2[-20:]), \", desvio padrao =\", np.std(rewards2[-20:]))"
      ]
    },
    {
      "cell_type": "code",
      "execution_count": null,
      "metadata": {
        "id": "Y9BcSu-GQbQA"
      },
      "outputs": [],
      "source": [
        "# Mostra um gráfico de passos x retornos não descontados acumulados\n",
        "plot_result(rewards2, rmax, cumulative='no', window=30)"
      ]
    },
    {
      "cell_type": "code",
      "execution_count": null,
      "metadata": {
        "id": "DMH1GmS4QclH"
      },
      "outputs": [],
      "source": [
        "evaluate_qtable_policy(env, qtable2, 10, verbose=True);"
      ]
    },
    {
      "cell_type": "code",
      "execution_count": null,
      "metadata": {
        "id": "ewhLKojuQd-I"
      },
      "outputs": [],
      "source": [
        "record_video_qtable(ENV_NAME, qtable2, episodes=3, folder='./videos-dynaq')"
      ]
    },
    {
      "cell_type": "code",
      "execution_count": null,
      "metadata": {
        "id": "eH5qU0mrQflJ"
      },
      "outputs": [],
      "source": [
        "display_videos_from_path(\"./videos-dynaq\", speed=0.5)"
      ]
    },
    {
      "cell_type": "markdown",
      "metadata": {
        "id": "joZ-esHO4TS4"
      },
      "source": [
        "# Dyna-Q com Prioritized Sweeping"
      ]
    },
    {
      "cell_type": "markdown",
      "metadata": {
        "id": "ylPGoiq04yKJ"
      },
      "source": [
        " - **Atualizações Prioritárias**: Prioritized Sweeping foca nos estados e ações que mais precisam de atualização, baseando-se em um critério de prioridade como o erro de predição. Isso torna o algoritmo mais eficiente porque direciona o esforço computacional para onde ele é mais necessário.\n",
        " - **Convergência Rápida**: Ao realizar atualizações em estados e ações com grandes diferenças de predição, o aprendizado é acelerado. O agente ajusta rapidamente suas políticas e valores de estado para refletir as partes mais críticas do espaço de estados.\n",
        " - **Eficiência em Grandes Espaços**: Em ambientes com grandes estados de espaço, Prioritized Sweeping permite que o agente ignore áreas menos relevantes, reduzindo significativamente o tempo necessário para alcançar convergência.\n",
        " - **Adaptabilidade**: A abordagem de priorização permite que o agente se adapte mais prontamente a mudanças no ambiente ou na dinâmica do modelo, fazendo uso produtivo das informações recentes mais impactantes."
      ]
    },
    {
      "cell_type": "code",
      "execution_count": 8,
      "metadata": {
        "id": "yGMBKZPOY46M"
      },
      "outputs": [],
      "source": [
        "class DynaQPrioritizedSweeping:\n",
        "    def __init__(self, env_name, alpha=0.1, gamma=0.95, epsilon=0.1, n_planning=50, theta=0.01):\n",
        "        self.env = gym.make(env_name)\n",
        "        self.state_size = self.env.observation_space.n\n",
        "        self.action_size = self.env.action_space.n\n",
        "        self.alpha = alpha\n",
        "        self.gamma = gamma\n",
        "        self.epsilon = epsilon\n",
        "        self.n_planning = n_planning\n",
        "        self.theta = theta  # Limiar de prioridade\n",
        "\n",
        "        # Inicialização das estruturas\n",
        "        self.q_table = np.ones((self.state_size, self.action_size)) * 0.1\n",
        "        self.model = {}  # (estado, ação) -> (recompensa, próximo_estado)\n",
        "        self.predecessors = {}  # estado -> set((estado_anterior, ação))\n",
        "        self.priority_queue = []  # Fila de prioridade para os estados\n",
        "\n",
        "    def get_priority(self, state, action):\n",
        "        \"\"\"Calcula a prioridade (magnitude do erro TD) para um par estado-ação.\"\"\"\n",
        "        if (state, action) not in self.model:\n",
        "            return 0\n",
        "\n",
        "        reward, next_state = self.model[(state, action)]\n",
        "        best_next_value = np.max(self.q_table[next_state])\n",
        "        td_error = abs(reward + self.gamma * best_next_value - self.q_table[state, action])\n",
        "        return td_error\n",
        "\n",
        "    def add_to_priority_queue(self, state, action, priority):\n",
        "        \"\"\"Adiciona um par estado-ação à fila de prioridade se o erro for significativo.\"\"\"\n",
        "        if priority > self.theta:\n",
        "            heapq.heappush(self.priority_queue, (-priority, (state, action)))\n",
        "\n",
        "    def update_predecessors(self, state, prev_state, prev_action):\n",
        "        \"\"\"Atualiza o mapa de predecessores.\"\"\"\n",
        "        if state not in self.predecessors:\n",
        "            self.predecessors[state] = set()\n",
        "        self.predecessors[state].add((prev_state, prev_action))\n",
        "\n",
        "    def choose_action(self, state):\n",
        "        if np.random.random() < self.epsilon:\n",
        "            return self.env.action_space.sample()\n",
        "        return int(np.argmax(self.q_table[state]))\n",
        "\n",
        "    def update(self, state, action, reward, next_state):\n",
        "        # Q-Learning update\n",
        "        best_next_value = np.max(self.q_table[next_state])\n",
        "        td_error = reward + self.gamma * best_next_value - self.q_table[state, action]\n",
        "        self.q_table[state, action] += self.alpha * td_error\n",
        "\n",
        "        # Atualiza o modelo\n",
        "        self.model[(state, action)] = (reward, next_state)\n",
        "        self.update_predecessors(next_state, state, action)\n",
        "\n",
        "        # Adiciona à fila de prioridade\n",
        "        priority = abs(td_error)\n",
        "        self.add_to_priority_queue(state, action, priority)\n",
        "\n",
        "        # Planning step\n",
        "        self._planning()\n",
        "\n",
        "    def _planning(self):\n",
        "        \"\"\"Executa o planejamento usando Prioritized Sweeping.\"\"\"\n",
        "        for _ in range(self.n_planning):\n",
        "            if not self.priority_queue:\n",
        "                break\n",
        "\n",
        "            # Pega o par estado-ação com maior prioridade\n",
        "            _, (state, action) = heapq.heappop(self.priority_queue)\n",
        "\n",
        "            # Atualiza Q-value\n",
        "            reward, next_state = self.model[(state, action)]\n",
        "            best_next_value = np.max(self.q_table[next_state])\n",
        "            td_error = reward + self.gamma * best_next_value - self.q_table[state, action]\n",
        "            self.q_table[state, action] += self.alpha * td_error\n",
        "\n",
        "            # Processa predecessores\n",
        "            if state in self.predecessors:\n",
        "                for pred_state, pred_action in self.predecessors[state]:\n",
        "                    priority = self.get_priority(pred_state, pred_action)\n",
        "                    self.add_to_priority_queue(pred_state, pred_action, priority)\n",
        "\n",
        "    def train(self, num_episodes, max_steps_per_episode=100):\n",
        "        rewards_per_episode = []\n",
        "        avg_rewards = []\n",
        "        window_size = 10\n",
        "        rewards_window = deque(maxlen=window_size)\n",
        "\n",
        "        for episode in range(num_episodes):\n",
        "            # Compatibilidade com diferentes versões do Gym\n",
        "            reset_result = self.env.reset()\n",
        "            state = reset_result if isinstance(reset_result, (int, np.integer)) else reset_result[0]\n",
        "\n",
        "            episode_reward = 0\n",
        "\n",
        "            for step in range(max_steps_per_episode):\n",
        "                action = self.choose_action(state)\n",
        "\n",
        "                # Compatibilidade com diferentes versões do Gym\n",
        "                step_result = self.env.step(action)\n",
        "                if len(step_result) == 4:  # Versão antiga do Gym\n",
        "                    next_state, reward, done, _ = step_result\n",
        "                    terminated, truncated = done, False\n",
        "                else:  # Versão nova do Gym\n",
        "                    next_state, reward, terminated, truncated, _ = step_result\n",
        "\n",
        "                self.update(state, action, reward, next_state)\n",
        "                episode_reward += reward\n",
        "                state = next_state\n",
        "\n",
        "                if terminated or truncated:\n",
        "                    break\n",
        "\n",
        "            rewards_per_episode.append(episode_reward)\n",
        "            rewards_window.append(episode_reward)\n",
        "            avg_rewards.append(np.mean(rewards_window))\n",
        "\n",
        "            # Decay epsilon\n",
        "            self.epsilon = max(0.01, self.epsilon * 0.995)\n",
        "\n",
        "            # if (episode + 1) % 10 == 0:\n",
        "            #     print(f\"Episode {episode + 1}, Average Reward (last {window_size}): {avg_rewards[-1]:.2f}\")\n",
        "\n",
        "        self.plot_learning(rewards_per_episode, avg_rewards, window_size)\n",
        "        return rewards_per_episode\n",
        "\n",
        "    def plot_learning(self, rewards, avg_rewards, window_size):\n",
        "        plt.figure(figsize=(10, 6))\n",
        "        plt.plot(rewards, alpha=0.3, color='blue', label='Recompensas por Episódio')\n",
        "        plt.plot(avg_rewards, color='red', label=f'Média Móvel (window={window_size})')\n",
        "        plt.xlabel('Episódio')\n",
        "        plt.ylabel('Recompensa')\n",
        "        plt.title('Curva de Aprendizado - Dyna-Q com Prioritized Sweeping')\n",
        "        plt.legend()\n",
        "        plt.grid(True, alpha=0.3)\n",
        "        plt.show()"
      ]
    },
    {
      "cell_type": "code",
      "execution_count": 9,
      "metadata": {
        "colab": {
          "base_uri": "https://localhost:8080/",
          "height": 582
        },
        "id": "kS381__OfurR",
        "outputId": "2765f6e6-0530-4b9e-c3e5-991f5e9abc41"
      },
      "outputs": [
        {
          "data": {
            "image/png": "[encoded data removed]",
            "text/plain": [
              "<Figure size 1000x600 with 1 Axes>"
            ]
          },
          "metadata": {},
          "output_type": "display_data"
        },
        {
          "name": "stdout",
          "output_type": "stream",
          "text": [
            "Treinamento concluído. Recompensa média final: 0.08\n"
          ]
        }
      ],
      "source": [
        "env_name = \"FrozenLake-v1\"\n",
        "agent = DynaQPrioritizedSweeping(\n",
        "    env_name,\n",
        "    alpha=0.1,\n",
        "    gamma=0.95,\n",
        "    epsilon=0.1,\n",
        "    n_planning=50,\n",
        "    theta=0.01\n",
        ")\n",
        "\n",
        "rewards = agent.train(num_episodes=5000)\n",
        "print(f\"Treinamento concluído. Recompensa média final: {np.mean(rewards[-100:]):.2f}\")"
      ]
    },
    {
      "cell_type": "code",
      "execution_count": null,
      "metadata": {
        "id": "HLfgydK6gWss"
      },
      "outputs": [],
      "source": [
        "env_name = \"Taxi-v3\"\n",
        "agent = DynaQPrioritizedSweeping(\n",
        "    env_name,\n",
        "    alpha=0.1,\n",
        "    gamma=0.95,\n",
        "    epsilon=0.1,\n",
        "    n_planning=50,\n",
        "    theta=0.01\n",
        ")\n",
        "\n",
        "rewards = agent.train(num_episodes=5000)\n",
        "print(f\"Treinamento concluído. Recompensa média final: {np.mean(rewards[-100:]):.2f}\")"
      ]
    }
  ],
  "metadata": {
    "colab": {
      "provenance": []
    },
    "kernelspec": {
      "display_name": "dynaq",
      "language": "python",
      "name": "dynaq"
    },
    "language_info": {
      "name": "python",
      "version": "3.12.3"
    }
  },
  "nbformat": 4,
  "nbformat_minor": 0
}
